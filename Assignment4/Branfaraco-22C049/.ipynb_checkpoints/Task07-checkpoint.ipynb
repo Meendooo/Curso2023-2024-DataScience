{
 "cells": [
  {
   "cell_type": "markdown",
   "metadata": {
    "id": "nOOPLCHF7hLB"
   },
   "source": [
    "**Task 07: Querying RDF(s)**"
   ]
  },
  {
   "cell_type": "code",
   "execution_count": 5,
   "metadata": {
    "colab": {
     "base_uri": "https://localhost:8080/",
     "height": 211
    },
    "id": "Yl9npCt8n6m-",
    "outputId": "096014c0-f1ad-4bd6-bada-ab3561ff1367"
   },
   "outputs": [
    {
     "name": "stdout",
     "output_type": "stream",
     "text": [
      "Requirement already satisfied: rdflib in c:\\users\\user\\anaconda3\\lib\\site-packages (7.0.0)\n",
      "Requirement already satisfied: isodate<0.7.0,>=0.6.0 in c:\\users\\user\\anaconda3\\lib\\site-packages (from rdflib) (0.6.1)\n",
      "Requirement already satisfied: pyparsing<4,>=2.1.0 in c:\\users\\user\\anaconda3\\lib\\site-packages (from rdflib) (3.0.9)\n",
      "Requirement already satisfied: six in c:\\users\\user\\anaconda3\\lib\\site-packages (from isodate<0.7.0,>=0.6.0->rdflib) (1.16.0)\n"
     ]
    }
   ],
   "source": [
    "!pip install rdflib\n",
    "github_storage = \"https://raw.githubusercontent.com/FacultadInformatica-LinkedData/Curso2023-2024/master/Assignment4/course_materials\""
   ]
  },
  {
   "cell_type": "markdown",
   "metadata": {
    "id": "XY7aPc86Bqoo"
   },
   "source": [
    "First let's read the RDF file"
   ]
  },
  {
   "cell_type": "code",
   "execution_count": 6,
   "metadata": {
    "colab": {
     "base_uri": "https://localhost:8080/",
     "height": 35
    },
    "id": "9ERh415on7kF",
    "outputId": "395dc571-ef76-4330-cf4b-0b9db3aa5277"
   },
   "outputs": [
    {
     "data": {
      "text/plain": [
       "<Graph identifier=N31c024b48f584c849fddc28f61b01e47 (<class 'rdflib.graph.Graph'>)>"
      ]
     },
     "execution_count": 6,
     "metadata": {},
     "output_type": "execute_result"
    }
   ],
   "source": [
    "from rdflib import Graph, Namespace, Literal\n",
    "from rdflib.namespace import RDF, RDFS\n",
    "g = Graph()\n",
    "g.namespace_manager.bind('ns', Namespace(\"http://somewhere#\"), override=False)\n",
    "g.namespace_manager.bind('vcard', Namespace(\"http://www.w3.org/2001/vcard-rdf/3.0#\"), override=False)\n",
    "g.parse(github_storage+\"/rdf/example6.rdf\", format=\"xml\")"
   ]
  },
  {
   "cell_type": "markdown",
   "metadata": {
    "id": "qp1oe2Eddsvo"
   },
   "source": [
    "**TASK 7.1: List all subclasses of \"LivingThing\" with RDFLib and SPARQL**"
   ]
  },
  {
   "cell_type": "code",
   "execution_count": 10,
   "metadata": {
    "id": "tRcSWuMHOXBl"
   },
   "outputs": [
    {
     "ename": "ParseException",
     "evalue": "Expected {SelectQuery | ConstructQuery | DescribeQuery | AskQuery}, found 'ns'  (at char 34), (line:3, col:5)",
     "output_type": "error",
     "traceback": [
      "\u001b[1;31m---------------------------------------------------------------------------\u001b[0m",
      "\u001b[1;31mParseException\u001b[0m                            Traceback (most recent call last)",
      "Cell \u001b[1;32mIn[10], line 5\u001b[0m\n\u001b[0;32m      3\u001b[0m ns \u001b[38;5;241m=\u001b[39m Namespace(\u001b[38;5;124m\"\u001b[39m\u001b[38;5;124mhttp://somewhere#\u001b[39m\u001b[38;5;124m\"\u001b[39m)\n\u001b[0;32m      4\u001b[0m \u001b[38;5;28;01mfrom\u001b[39;00m \u001b[38;5;21;01mrdflib\u001b[39;00m\u001b[38;5;21;01m.\u001b[39;00m\u001b[38;5;21;01mplugins\u001b[39;00m\u001b[38;5;21;01m.\u001b[39;00m\u001b[38;5;21;01msparql\u001b[39;00m \u001b[38;5;28;01mimport\u001b[39;00m prepareQuery\n\u001b[1;32m----> 5\u001b[0m q1 \u001b[38;5;241m=\u001b[39m prepareQuery(\u001b[38;5;124m'''\u001b[39m\n\u001b[0;32m      6\u001b[0m \u001b[38;5;124m  SELECT ?Predicate WHERE \u001b[39m\u001b[38;5;124m{\u001b[39m\u001b[38;5;124m \u001b[39m\n\u001b[0;32m      7\u001b[0m \u001b[38;5;124m    ns.LivingThing ?RDFSsubClassOf ?Predicate. \u001b[39m\n\u001b[0;32m      8\u001b[0m \u001b[38;5;124m  }\u001b[39m\n\u001b[0;32m      9\u001b[0m \u001b[38;5;124m  \u001b[39m\u001b[38;5;124m'''\u001b[39m,\n\u001b[0;32m     10\u001b[0m   initNs \u001b[38;5;241m=\u001b[39m { \u001b[38;5;124m\"\u001b[39m\u001b[38;5;124mvcard\u001b[39m\u001b[38;5;124m\"\u001b[39m: VCARD, \u001b[38;5;124m\"\u001b[39m\u001b[38;5;124mns\u001b[39m\u001b[38;5;124m\"\u001b[39m: ns, }\n\u001b[0;32m     11\u001b[0m )\n\u001b[0;32m     12\u001b[0m \u001b[38;5;66;03m# Visualize the results\u001b[39;00m\n\u001b[0;32m     14\u001b[0m \u001b[38;5;28;01mfor\u001b[39;00m r \u001b[38;5;129;01min\u001b[39;00m g\u001b[38;5;241m.\u001b[39mquery(q1):\n",
      "File \u001b[1;32m~\\anaconda3\\Lib\\site-packages\\rdflib\\plugins\\sparql\\processor.py:31\u001b[0m, in \u001b[0;36mprepareQuery\u001b[1;34m(queryString, initNs, base)\u001b[0m\n\u001b[0;32m     29\u001b[0m \u001b[38;5;28;01mif\u001b[39;00m initNs \u001b[38;5;129;01mis\u001b[39;00m \u001b[38;5;28;01mNone\u001b[39;00m:\n\u001b[0;32m     30\u001b[0m     initNs \u001b[38;5;241m=\u001b[39m {}\n\u001b[1;32m---> 31\u001b[0m ret \u001b[38;5;241m=\u001b[39m translateQuery(parseQuery(queryString), base, initNs)\n\u001b[0;32m     32\u001b[0m ret\u001b[38;5;241m.\u001b[39m_original_args \u001b[38;5;241m=\u001b[39m (queryString, initNs, base)\n\u001b[0;32m     33\u001b[0m \u001b[38;5;28;01mreturn\u001b[39;00m ret\n",
      "File \u001b[1;32m~\\anaconda3\\Lib\\site-packages\\rdflib\\plugins\\sparql\\parser.py:1542\u001b[0m, in \u001b[0;36mparseQuery\u001b[1;34m(q)\u001b[0m\n\u001b[0;32m   1539\u001b[0m     q \u001b[38;5;241m=\u001b[39m q\u001b[38;5;241m.\u001b[39mdecode(\u001b[38;5;124m\"\u001b[39m\u001b[38;5;124mutf-8\u001b[39m\u001b[38;5;124m\"\u001b[39m)\n\u001b[0;32m   1541\u001b[0m q \u001b[38;5;241m=\u001b[39m expandUnicodeEscapes(q)\n\u001b[1;32m-> 1542\u001b[0m \u001b[38;5;28;01mreturn\u001b[39;00m Query\u001b[38;5;241m.\u001b[39mparseString(q, parseAll\u001b[38;5;241m=\u001b[39m\u001b[38;5;28;01mTrue\u001b[39;00m)\n",
      "File \u001b[1;32m~\\anaconda3\\Lib\\site-packages\\pyparsing\\core.py:1141\u001b[0m, in \u001b[0;36mParserElement.parse_string\u001b[1;34m(self, instring, parse_all, parseAll)\u001b[0m\n\u001b[0;32m   1138\u001b[0m         \u001b[38;5;28;01mraise\u001b[39;00m\n\u001b[0;32m   1139\u001b[0m     \u001b[38;5;28;01melse\u001b[39;00m:\n\u001b[0;32m   1140\u001b[0m         \u001b[38;5;66;03m# catch and re-raise exception from here, clearing out pyparsing internal stack trace\u001b[39;00m\n\u001b[1;32m-> 1141\u001b[0m         \u001b[38;5;28;01mraise\u001b[39;00m exc\u001b[38;5;241m.\u001b[39mwith_traceback(\u001b[38;5;28;01mNone\u001b[39;00m)\n\u001b[0;32m   1142\u001b[0m \u001b[38;5;28;01melse\u001b[39;00m:\n\u001b[0;32m   1143\u001b[0m     \u001b[38;5;28;01mreturn\u001b[39;00m tokens\n",
      "\u001b[1;31mParseException\u001b[0m: Expected {SelectQuery | ConstructQuery | DescribeQuery | AskQuery}, found 'ns'  (at char 34), (line:3, col:5)"
     ]
    }
   ],
   "source": [
    "# TO DO\n",
    "VCARD = Namespace(\"http://www.w3.org/2001/vcard-rdf/3.0#\")\n",
    "ns = Namespace(\"http://somewhere#\")\n",
    "from rdflib.plugins.sparql import prepareQuery\n",
    "q1 = prepareQuery('''\n",
    "  SELECT ?Predicate WHERE { \n",
    "    ns.LivingThing RDFS.subClassOf ?Predicate. \n",
    "  }\n",
    "  ''',\n",
    "  initNs = { \"vcard\": VCARD, \"ns\": ns, \"RDFS\": RDFS}\n",
    ")\n",
    "# Visualize the results\n",
    "\n",
    "for r in g.query(q1):\n",
    "  print(r)"
   ]
  },
  {
   "cell_type": "markdown",
   "metadata": {
    "id": "gM3DASkTQQ5Y"
   },
   "source": [
    "**TASK 7.2: List all individuals of \"Person\" with RDFLib and SPARQL (remember the subClasses)**\n"
   ]
  },
  {
   "cell_type": "code",
   "execution_count": 11,
   "metadata": {
    "id": "LiKSPHRzS-XJ"
   },
   "outputs": [
    {
     "ename": "ParseException",
     "evalue": "Expected {SelectQuery | ConstructQuery | DescribeQuery | AskQuery}, found end of text  (at char 142), (line:7, col:3)",
     "output_type": "error",
     "traceback": [
      "\u001b[1;31m---------------------------------------------------------------------------\u001b[0m",
      "\u001b[1;31mIndexError\u001b[0m                                Traceback (most recent call last)",
      "File \u001b[1;32m~\\anaconda3\\Lib\\site-packages\\pyparsing\\core.py:817\u001b[0m, in \u001b[0;36mParserElement._parseNoCache\u001b[1;34m(self, instring, loc, doActions, callPreParse)\u001b[0m\n\u001b[0;32m    816\u001b[0m \u001b[38;5;28;01mtry\u001b[39;00m:\n\u001b[1;32m--> 817\u001b[0m     loc, tokens \u001b[38;5;241m=\u001b[39m \u001b[38;5;28mself\u001b[39m\u001b[38;5;241m.\u001b[39mparseImpl(instring, pre_loc, doActions)\n\u001b[0;32m    818\u001b[0m \u001b[38;5;28;01mexcept\u001b[39;00m \u001b[38;5;167;01mIndexError\u001b[39;00m:\n",
      "File \u001b[1;32m~\\anaconda3\\Lib\\site-packages\\pyparsing\\core.py:2346\u001b[0m, in \u001b[0;36m_SingleCharLiteral.parseImpl\u001b[1;34m(self, instring, loc, doActions)\u001b[0m\n\u001b[0;32m   2345\u001b[0m \u001b[38;5;28;01mdef\u001b[39;00m \u001b[38;5;21mparseImpl\u001b[39m(\u001b[38;5;28mself\u001b[39m, instring, loc, doActions\u001b[38;5;241m=\u001b[39m\u001b[38;5;28;01mTrue\u001b[39;00m):\n\u001b[1;32m-> 2346\u001b[0m     \u001b[38;5;28;01mif\u001b[39;00m instring[loc] \u001b[38;5;241m==\u001b[39m \u001b[38;5;28mself\u001b[39m\u001b[38;5;241m.\u001b[39mfirstMatchChar:\n\u001b[0;32m   2347\u001b[0m         \u001b[38;5;28;01mreturn\u001b[39;00m loc \u001b[38;5;241m+\u001b[39m \u001b[38;5;241m1\u001b[39m, \u001b[38;5;28mself\u001b[39m\u001b[38;5;241m.\u001b[39mmatch\n",
      "\u001b[1;31mIndexError\u001b[0m: string index out of range",
      "\nDuring handling of the above exception, another exception occurred:\n",
      "\u001b[1;31mParseException\u001b[0m                            Traceback (most recent call last)",
      "Cell \u001b[1;32mIn[11], line 1\u001b[0m\n\u001b[1;32m----> 1\u001b[0m q2 \u001b[38;5;241m=\u001b[39m prepareQuery(\u001b[38;5;124m'''\u001b[39m\n\u001b[0;32m      2\u001b[0m \u001b[38;5;124m  SELECT ?Subject WHERE \u001b[39m\u001b[38;5;124m{\u001b[39m\u001b[38;5;124m \u001b[39m\n\u001b[0;32m      3\u001b[0m \u001b[38;5;124m  \u001b[39m\u001b[38;5;124m{\u001b[39m\u001b[38;5;124m ?person rdf:type ?tipo.\u001b[39m\n\u001b[0;32m      4\u001b[0m \u001b[38;5;124m    ?tipo rdf:subClassOf foaf:Person.} \u001b[39m\n\u001b[0;32m      5\u001b[0m \u001b[38;5;124m  UNION \u001b[39m\u001b[38;5;124m{\u001b[39m\u001b[38;5;124m ?person rdf:type foaf:Person.}\u001b[39m\n\u001b[0;32m      6\u001b[0m \u001b[38;5;124m  \u001b[39m\n\u001b[0;32m      7\u001b[0m \u001b[38;5;124m  \u001b[39m\u001b[38;5;124m'''\u001b[39m,\n\u001b[0;32m      8\u001b[0m   initNs \u001b[38;5;241m=\u001b[39m { \u001b[38;5;124m\"\u001b[39m\u001b[38;5;124mvcard\u001b[39m\u001b[38;5;124m\"\u001b[39m: VCARD, \u001b[38;5;124m\"\u001b[39m\u001b[38;5;124mns\u001b[39m\u001b[38;5;124m\"\u001b[39m: ns, \u001b[38;5;124m\"\u001b[39m\u001b[38;5;124mRDFS\u001b[39m\u001b[38;5;124m\"\u001b[39m: RDFS}\n\u001b[0;32m      9\u001b[0m )\n\u001b[0;32m     10\u001b[0m \u001b[38;5;66;03m# Visualize the results\u001b[39;00m\n\u001b[0;32m     12\u001b[0m \u001b[38;5;28;01mfor\u001b[39;00m r \u001b[38;5;129;01min\u001b[39;00m g\u001b[38;5;241m.\u001b[39mquery(q2):\n",
      "File \u001b[1;32m~\\anaconda3\\Lib\\site-packages\\rdflib\\plugins\\sparql\\processor.py:31\u001b[0m, in \u001b[0;36mprepareQuery\u001b[1;34m(queryString, initNs, base)\u001b[0m\n\u001b[0;32m     29\u001b[0m \u001b[38;5;28;01mif\u001b[39;00m initNs \u001b[38;5;129;01mis\u001b[39;00m \u001b[38;5;28;01mNone\u001b[39;00m:\n\u001b[0;32m     30\u001b[0m     initNs \u001b[38;5;241m=\u001b[39m {}\n\u001b[1;32m---> 31\u001b[0m ret \u001b[38;5;241m=\u001b[39m translateQuery(parseQuery(queryString), base, initNs)\n\u001b[0;32m     32\u001b[0m ret\u001b[38;5;241m.\u001b[39m_original_args \u001b[38;5;241m=\u001b[39m (queryString, initNs, base)\n\u001b[0;32m     33\u001b[0m \u001b[38;5;28;01mreturn\u001b[39;00m ret\n",
      "File \u001b[1;32m~\\anaconda3\\Lib\\site-packages\\rdflib\\plugins\\sparql\\parser.py:1542\u001b[0m, in \u001b[0;36mparseQuery\u001b[1;34m(q)\u001b[0m\n\u001b[0;32m   1539\u001b[0m     q \u001b[38;5;241m=\u001b[39m q\u001b[38;5;241m.\u001b[39mdecode(\u001b[38;5;124m\"\u001b[39m\u001b[38;5;124mutf-8\u001b[39m\u001b[38;5;124m\"\u001b[39m)\n\u001b[0;32m   1541\u001b[0m q \u001b[38;5;241m=\u001b[39m expandUnicodeEscapes(q)\n\u001b[1;32m-> 1542\u001b[0m \u001b[38;5;28;01mreturn\u001b[39;00m Query\u001b[38;5;241m.\u001b[39mparseString(q, parseAll\u001b[38;5;241m=\u001b[39m\u001b[38;5;28;01mTrue\u001b[39;00m)\n",
      "File \u001b[1;32m~\\anaconda3\\Lib\\site-packages\\pyparsing\\core.py:1141\u001b[0m, in \u001b[0;36mParserElement.parse_string\u001b[1;34m(self, instring, parse_all, parseAll)\u001b[0m\n\u001b[0;32m   1138\u001b[0m         \u001b[38;5;28;01mraise\u001b[39;00m\n\u001b[0;32m   1139\u001b[0m     \u001b[38;5;28;01melse\u001b[39;00m:\n\u001b[0;32m   1140\u001b[0m         \u001b[38;5;66;03m# catch and re-raise exception from here, clearing out pyparsing internal stack trace\u001b[39;00m\n\u001b[1;32m-> 1141\u001b[0m         \u001b[38;5;28;01mraise\u001b[39;00m exc\u001b[38;5;241m.\u001b[39mwith_traceback(\u001b[38;5;28;01mNone\u001b[39;00m)\n\u001b[0;32m   1142\u001b[0m \u001b[38;5;28;01melse\u001b[39;00m:\n\u001b[0;32m   1143\u001b[0m     \u001b[38;5;28;01mreturn\u001b[39;00m tokens\n",
      "\u001b[1;31mParseException\u001b[0m: Expected {SelectQuery | ConstructQuery | DescribeQuery | AskQuery}, found end of text  (at char 142), (line:7, col:3)"
     ]
    }
   ],
   "source": [
    "q2 = prepareQuery('''\n",
    "  SELECT ?Subject WHERE { \n",
    "  { ?person rdf:type ?tipo.\n",
    "    ?tipo rdf:subClassOf foaf:Person.} \n",
    "  UNION { ?person rdf:type foaf:Person.}\n",
    "  \n",
    "  ''',\n",
    "  initNs = { \"vcard\": VCARD, \"ns\": ns, \"RDFS\": RDFS}\n",
    ")\n",
    "# Visualize the results\n",
    "\n",
    "for r in g.query(q2):\n",
    "  print(r)"
   ]
  },
  {
   "cell_type": "markdown",
   "metadata": {
    "id": "MXBqtBkJd22I"
   },
   "source": [
    "**TASK 7.3: List all individuals of \"Person\" or \"Animal\" and all their properties including their class with RDFLib and SPARQL. You do not need to list the individuals of the subclasses of person**\n"
   ]
  },
  {
   "cell_type": "code",
   "execution_count": null,
   "metadata": {
    "id": "APQGv3NHX8Tf"
   },
   "outputs": [],
   "source": [
    "# TO DO\n",
    "q3 = prepareQuery('''\n",
    "  SELECT ?person ?pers_properties ?animal ?animal_properties WHERE { \n",
    "  ?person rdf:type foaf:Person.\n",
    "  ?animal rdf:type foaf:Animal.\n",
    "  ?person ?pers_properties ?predicate.\n",
    "  ?animal ?animal_properties ?predicate.\n",
    "  \n",
    "  ''',\n",
    "  initNs = { \"vcard\": VCARD, \"ns\": ns, \"RDFS\": RDFS}\n",
    ")\n",
    "# Visualize the results\n",
    "\n",
    "for r in g.query(q3):\n",
    "  print(r)\n",
    "# Visualize the results"
   ]
  },
  {
   "cell_type": "markdown",
   "metadata": {
    "id": "3NyI7M2VNr9R"
   },
   "source": [
    "**TASK 7.4:  List the name of the persons who know Rocky**"
   ]
  },
  {
   "cell_type": "code",
   "execution_count": 1,
   "metadata": {
    "id": "I_CNoIKdNpbx"
   },
   "outputs": [],
   "source": [
    "# TO DO\n",
    "q3 = prepareQuery('''\n",
    "  SELECT ?persons WHERE { \n",
    "  ?persons rdf:type foaf:Person.\n",
    "  ?persons foaf:knows ns.Rocky\n",
    "  \n",
    "  ''',\n",
    "  initNs = { \"vcard\": VCARD, \"ns\": ns, \"RDFS\": RDFS}\n",
    ")\n",
    "# Visualize the results\n",
    "\n",
    "for r in g.query(q3):\n",
    "  print(r)\n",
    "# Visualize the results"
   ]
  },
  {
   "cell_type": "markdown",
   "metadata": {
    "id": "kyjGsyxDPa2C"
   },
   "source": [
    "**Task 7.5: List the entities who know at least two other entities in the graph**"
   ]
  },
  {
   "cell_type": "code",
   "execution_count": null,
   "metadata": {
    "id": "yoVwVZUAPaLm"
   },
   "outputs": [],
   "source": [
    "# TO DO\n",
    "q4 = prepareQuery('''\n",
    "  SELECT DISTINCT ?entity\n",
    "    WHERE {\n",
    "        ?entity ns:knows ?entity1.\n",
    "        ?entity ns:knows ?entity2.\n",
    "        FILTER (?entity1 != ?entity2)\n",
    "    }\n",
    "  ''',\n",
    "  initNs = { \"vcard\": VCARD, \"ns\": ns, \"RDFS\": RDFS}\n",
    ")\n",
    "# Visualize the results\n",
    "\n",
    "for r in g.query(q4):\n",
    "  print(r)\n",
    "# Visualize the results\n",
    "\n",
    "# Visualize the results"
   ]
  }
 ],
 "metadata": {
  "colab": {
   "provenance": []
  },
  "kernelspec": {
   "display_name": "Python 3 (ipykernel)",
   "language": "python",
   "name": "python3"
  },
  "language_info": {
   "codemirror_mode": {
    "name": "ipython",
    "version": 3
   },
   "file_extension": ".py",
   "mimetype": "text/x-python",
   "name": "python",
   "nbconvert_exporter": "python",
   "pygments_lexer": "ipython3",
   "version": "3.11.5"
  }
 },
 "nbformat": 4,
 "nbformat_minor": 1
}
